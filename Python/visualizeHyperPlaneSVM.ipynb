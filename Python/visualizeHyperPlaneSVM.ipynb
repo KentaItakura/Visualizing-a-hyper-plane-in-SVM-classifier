{
 "cells": [
  {
   "cell_type": "markdown",
   "id": "b7b1a866",
   "metadata": {},
   "source": [
    "# サポートベクターマシン（SVM）の分離平面の可視化  \n",
    "この記事では、サポートベクトルマシン（SVM）を用いて、分類を行ったときの、分離のための超平面を可視化することを行います。ここでは、3つの変数を説明変数として用いて、3次元プロットによる可視化を行います。  \n",
    "\n",
    "可視化におけるポイントは、  \n",
    "1. XYZの範囲内でその値を小刻みに変更しながらグリッドを作成する  \n",
    "2. そのデータに対してSVMによる分類を行う  \n",
    "3. そのときの結果の中で、分類平面に近いデータを取り出す  \n",
    "4. そのデータを訓練データと重ね合わせて表示する  \n",
    "ということです。"
   ]
  },
  {
   "cell_type": "markdown",
   "id": "dce6d342",
   "metadata": {},
   "source": [
    "## モジュールのインポート  \n",
    "この例では、jupyter notebookを用いています。点を3D上でプロットして、くるくると回すために、`%matplotlib notebook`と指定します。"
   ]
  },
  {
   "cell_type": "code",
   "execution_count": null,
   "id": "cdc4ee5f",
   "metadata": {},
   "outputs": [],
   "source": [
    "from sklearn.svm import SVC\n",
    "import numpy as np\n",
    "import matplotlib.pyplot as plt\n",
    "from sklearn import svm, datasets\n",
    "from mpl_toolkits.mplot3d import Axes3D\n",
    "from scipy.interpolate import griddata\n",
    "%matplotlib notebook"
   ]
  },
  {
   "cell_type": "markdown",
   "id": "595b5e0a",
   "metadata": {},
   "source": [
    "## irisデータセットの読み込み  \n",
    "ここでは、irisデータセットを用います"
   ]
  },
  {
   "cell_type": "code",
   "execution_count": null,
   "id": "35bdf9f2",
   "metadata": {},
   "outputs": [],
   "source": [
    "iris = datasets.load_iris()\n",
    "X = iris.data[:, :3]  # 3つの変数のみを用いる\n",
    "Y = iris.target\n",
    "# 用いるデータの作成\n",
    "X = X[np.logical_or(Y==0,Y==1)]\n",
    "Y = Y[np.logical_or(Y==0,Y==1)]"
   ]
  },
  {
   "cell_type": "markdown",
   "id": "f080a456",
   "metadata": {},
   "source": [
    "## SVMの学習  \n",
    "ここでは、ガウシアンカーネルを用いて学習を行います。線形カーネルで行う場合は、\"linear\"と指定します。"
   ]
  },
  {
   "cell_type": "code",
   "execution_count": null,
   "id": "be5e44fe",
   "metadata": {},
   "outputs": [],
   "source": [
    "# 分類器の準備\n",
    "model = svm.SVC(kernel='rbf',probability=True)\n",
    "# 学習\n",
    "clf = model.fit(X, Y)"
   ]
  },
  {
   "cell_type": "markdown",
   "id": "e078059b",
   "metadata": {},
   "source": [
    "## 分離平面を可視化するためのテストデータを作成する  \n",
    "各変数の最大値と最小値を求め、その範囲でテストデータを作成します。`mesh_size`という変数で、その間隔を制御します。小さい値に設定すると、より厳密な分離平面を得ることができますが、一方で、計算時間が長くなります。"
   ]
  },
  {
   "cell_type": "code",
   "execution_count": null,
   "id": "0016412e",
   "metadata": {},
   "outputs": [],
   "source": [
    "# データを作成する間隔\n",
    "mesh_size = 0.2\n",
    "# 変数をそれぞれ、x1, x2, x3とする\n",
    "x1 = X[:,0]\n",
    "x2 = X[:,1]\n",
    "x3 = X[:,2]\n",
    "# 作成する範囲を大きくしたい場合marginを0より大きい値にする\n",
    "margin = 0\n",
    "# xyzの最小、最大値を求める\n",
    "x_min, x_max = x1.min() - margin, x1.max() + margin\n",
    "y_min, y_max = x2.min() - margin, x2.max() + margin\n",
    "z_min, z_max = x3.min() - margin, x3.max() + margin\n",
    "# mesh_sizeに応じて点を作成する\n",
    "xrange = np.arange(x_min, x_max, mesh_size)\n",
    "yrange = np.arange(y_min, y_max, mesh_size)\n",
    "zrange = np.arange(z_min, z_max, mesh_size)\n",
    "x,y,z = np.meshgrid(xrange,yrange,zrange)\n",
    "# flatten\n",
    "x = x.reshape(-1)\n",
    "y = y.reshape(-1)\n",
    "z = z.reshape(-1)"
   ]
  },
  {
   "cell_type": "markdown",
   "id": "6251e7f5",
   "metadata": {},
   "source": [
    "## 分離平面を可視化するためのテストデータと訓練データを重ね合わせる  \n",
    "前のセクションで作成したテストデータが、訓練データと重なっているかを確認する"
   ]
  },
  {
   "cell_type": "code",
   "execution_count": null,
   "id": "74b8d1d8",
   "metadata": {},
   "outputs": [],
   "source": [
    "# 可視化\n",
    "fig = plt.figure()\n",
    "ax = fig.add_subplot(projection='3d')\n",
    "# テストデータのプロット\n",
    "ax.scatter(x, y, z)\n",
    "# 訓練データのプロット\n",
    "ax.plot3D(X[Y==0,0], X[Y==0,1], X[Y==0,2],'ob')\n",
    "ax.plot3D(X[Y==1,0], X[Y==1,1], X[Y==1,2],'sr')\n",
    "plt.show()"
   ]
  },
  {
   "cell_type": "markdown",
   "id": "ec82c020",
   "metadata": {},
   "source": [
    "## テストデータの予測"
   ]
  },
  {
   "cell_type": "code",
   "execution_count": null,
   "id": "0e582d4b",
   "metadata": {},
   "outputs": [],
   "source": [
    "xyz = np.vstack([x,y,z])\n",
    "xyz = xyz.T\n",
    "y_pred = clf.predict_proba(xyz)"
   ]
  },
  {
   "cell_type": "markdown",
   "id": "3dc9a96b",
   "metadata": {},
   "source": [
    "## クラスAとBの確率が等しいテストデータを抽出"
   ]
  },
  {
   "cell_type": "code",
   "execution_count": null,
   "id": "beb95c32",
   "metadata": {},
   "outputs": [],
   "source": [
    "diff = y_pred[:,0]-y_pred[:,1]\n",
    "idx = np.where(np.abs(diff)<0.1)\n",
    "xyz = xyz[idx,:]\n",
    "out = np.squeeze(xyz)"
   ]
  },
  {
   "cell_type": "markdown",
   "id": "4e1d26b4",
   "metadata": {},
   "source": [
    "## 分離平面の可視化  \n",
    "最後に、前のセクションで取り出した点ともとの訓練データを重ねて表示させます。これにより、うまく分離平面が可視化できていることがわかります。"
   ]
  },
  {
   "cell_type": "code",
   "execution_count": null,
   "id": "aebaa410",
   "metadata": {},
   "outputs": [],
   "source": [
    "# クラスAとBの確率がほぼ等しい点のx,y,z情報を抽出する\n",
    "x_selected = out[:,0]\n",
    "y_selected = out[:,1]\n",
    "z_selected = out[:,2]\n",
    "# surfaceプロットをするための準備\n",
    "x_new, y_new = np.meshgrid(np.unique(x_selected), np.unique(y_selected))\n",
    "z_new = griddata((x_selected, y_selected), z_selected, (x_new, y_new))\n",
    "\n",
    "# 可視化\n",
    "fig = plt.figure()\n",
    "ax = fig.add_subplot(projection='3d')\n",
    "ax.plot3D(X[Y==0,0], X[Y==0,1], X[Y==0,2],'ob')\n",
    "ax.plot3D(X[Y==1,0], X[Y==1,1], X[Y==1,2],'sr')\n",
    "# surfaceの可視化\n",
    "ax.plot_surface(x_new, y_new, z_new,cmap='plasma')\n",
    "ax.set_xlabel(r\"$x_1$\", fontsize=12)\n",
    "ax.set_ylabel(r\"$x_2$\", fontsize=12)\n",
    "ax.set_zlabel(r\"$x_3$\", fontsize=12)\n",
    "ax.set_title(\"Visualizing hyper-plane\", fontsize=12)\n",
    "plt.show()"
   ]
  },
  {
   "cell_type": "markdown",
   "id": "f812e6c4",
   "metadata": {},
   "source": [
    "## 参考文献  \n",
    "以下の記事などが参考になりました。著書の皆様、ありがとうございました。  \n",
    "\n",
    "https://qiita.com/thtitech/items/4c0777f3825572d7e0eb  \n",
    "https://qiita.com/kzm4269/items/8ea85f3d90caecef704b  \n",
    "https://stackoverflow.com/questions/51278752/visualize-2d-3d-decision-surface-in-svm-scikit-learn"
   ]
  },
  {
   "cell_type": "code",
   "execution_count": null,
   "id": "bebd1b10",
   "metadata": {},
   "outputs": [],
   "source": []
  }
 ],
 "metadata": {
  "kernelspec": {
   "display_name": "Python 3 (ipykernel)",
   "language": "python",
   "name": "python3"
  },
  "language_info": {
   "codemirror_mode": {
    "name": "ipython",
    "version": 3
   },
   "file_extension": ".py",
   "mimetype": "text/x-python",
   "name": "python",
   "nbconvert_exporter": "python",
   "pygments_lexer": "ipython3",
   "version": "3.7.13"
  },
  "varInspector": {
   "cols": {
    "lenName": 16,
    "lenType": 16,
    "lenVar": 40
   },
   "kernels_config": {
    "python": {
     "delete_cmd_postfix": "",
     "delete_cmd_prefix": "del ",
     "library": "var_list.py",
     "varRefreshCmd": "print(var_dic_list())"
    },
    "r": {
     "delete_cmd_postfix": ") ",
     "delete_cmd_prefix": "rm(",
     "library": "var_list.r",
     "varRefreshCmd": "cat(var_dic_list()) "
    }
   },
   "position": {
    "height": "382.85px",
    "left": "1116.2px",
    "right": "20px",
    "top": "403px",
    "width": "350px"
   },
   "types_to_exclude": [
    "module",
    "function",
    "builtin_function_or_method",
    "instance",
    "_Feature"
   ],
   "window_display": true
  }
 },
 "nbformat": 4,
 "nbformat_minor": 5
}
